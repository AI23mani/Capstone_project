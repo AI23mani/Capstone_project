{
 "cells": [
  {
   "cell_type": "code",
   "execution_count": 1,
   "id": "f342f568-1b66-409d-ae63-eda73e91665a",
   "metadata": {},
   "outputs": [],
   "source": [
    "import pickle"
   ]
  },
  {
   "cell_type": "code",
   "execution_count": 2,
   "id": "5b59f6c8-985f-4f7a-a28b-3f5c640f7a53",
   "metadata": {},
   "outputs": [],
   "source": [
    "filename=\"RANDOM_final.sav\""
   ]
  },
  {
   "cell_type": "code",
   "execution_count": 3,
   "id": "b8e8b97b-a1b9-4d5f-bc57-97c944405b20",
   "metadata": {},
   "outputs": [],
   "source": [
    "loaded_model=pickle.load(open(\"RANDOM_final.sav\",'rb'))"
   ]
  },
  {
   "cell_type": "code",
   "execution_count": 9,
   "id": "25a98d95-2998-4e31-803b-79904fcddcae",
   "metadata": {},
   "outputs": [
    {
     "name": "stdin",
     "output_type": "stream",
     "text": [
      "radius_mean:  2\n",
      "concavity_mean:  0.20\n",
      "radius_worst:  0.10\n",
      "compactness_worst:  0.3\n",
      "concavity_worst:  0.211\n"
     ]
    }
   ],
   "source": [
    "radius_mean_input = float(input(\"radius_mean: \"))\n",
    "concavity_mean_input = float(input(\"concavity_mean: \"))\n",
    "radius_worst_input = float(input(\"radius_worst: \"))\n",
    "compactness_worst_input = float(input(\"compactness_worst: \"))\n",
    "concavity_worst_input = float(input(\"concavity_worst: \"))\n"
   ]
  },
  {
   "cell_type": "code",
   "execution_count": 10,
   "id": "ce51a663-06ed-4ef4-84d5-a4c2a5fcefb0",
   "metadata": {},
   "outputs": [
    {
     "name": "stdout",
     "output_type": "stream",
     "text": [
      "Future_Prediction=[ True]\n"
     ]
    }
   ],
   "source": [
    "future_Prediction=loaded_model.predict([[radius_mean_input,concavity_mean_input,radius_worst_input,compactness_worst_input,concavity_worst_input]])# change the paramter,play with it.\n",
    "print(\"Future_Prediction={}\".format(future_Prediction))"
   ]
  },
  {
   "cell_type": "code",
   "execution_count": null,
   "id": "29844332-ed24-485c-a240-d72163718d00",
   "metadata": {},
   "outputs": [],
   "source": []
  }
 ],
 "metadata": {
  "kernelspec": {
   "display_name": "Python 3 (ipykernel)",
   "language": "python",
   "name": "python3"
  },
  "language_info": {
   "codemirror_mode": {
    "name": "ipython",
    "version": 3
   },
   "file_extension": ".py",
   "mimetype": "text/x-python",
   "name": "python",
   "nbconvert_exporter": "python",
   "pygments_lexer": "ipython3",
   "version": "3.11.7"
  }
 },
 "nbformat": 4,
 "nbformat_minor": 5
}
